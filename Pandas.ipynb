{
 "cells": [
  {
   "cell_type": "markdown",
   "id": "f7d78ce5",
   "metadata": {},
   "source": [
    "# Pandas"
   ]
  },
  {
   "cell_type": "code",
   "execution_count": 144,
   "id": "2543f55f",
   "metadata": {},
   "outputs": [],
   "source": [
    "import pandas as pd"
   ]
  },
  {
   "cell_type": "code",
   "execution_count": 145,
   "id": "42c2bb2e",
   "metadata": {},
   "outputs": [],
   "source": [
    "import numpy as np"
   ]
  },
  {
   "cell_type": "code",
   "execution_count": 146,
   "id": "66049bb8",
   "metadata": {},
   "outputs": [
    {
     "name": "stdout",
     "output_type": "stream",
     "text": [
      "0    1\n",
      "1    2\n",
      "2    3\n",
      "3    4\n",
      "dtype: int32\n",
      "a    25\n",
      "b     3\n",
      "c    42\n",
      "dtype: int64\n"
     ]
    }
   ],
   "source": [
    "d1=np.array([1,2,3,4])\n",
    "d2={\"a\":25,\"b\":3, \"c\":42}\n",
    "se1=pd.Series(d1)\n",
    "se2=pd.Series(d2)\n",
    "print(se1)\n",
    "print(se2)\n"
   ]
  },
  {
   "cell_type": "code",
   "execution_count": 147,
   "id": "3e568e4c",
   "metadata": {},
   "outputs": [
    {
     "name": "stdout",
     "output_type": "stream",
     "text": [
      "a    1\n",
      "b    2\n",
      "c    3\n",
      "d    4\n",
      "dtype: int64\n"
     ]
    }
   ],
   "source": [
    "d1=[1,2,3,4]\n",
    "se1=pd.Series(d1,index=[\"a\",\"b\",\"c\",\"d\"])\n",
    "print(se1)"
   ]
  },
  {
   "cell_type": "code",
   "execution_count": 148,
   "id": "d17c2daf",
   "metadata": {},
   "outputs": [
    {
     "name": "stdout",
     "output_type": "stream",
     "text": [
      "3\n"
     ]
    }
   ],
   "source": [
    "print(se1[\"c\"])"
   ]
  },
  {
   "cell_type": "code",
   "execution_count": 149,
   "id": "384f5315",
   "metadata": {},
   "outputs": [
    {
     "name": "stdout",
     "output_type": "stream",
     "text": [
      "   calorias  duracion\n",
      "0       420        50\n",
      "1       380        40\n",
      "2       390        45\n"
     ]
    }
   ],
   "source": [
    "d2 = {\n",
    "  \"calorias\": [420, 380, 390],\n",
    "  \"duracion\": [50, 40, 45]\n",
    "}\n",
    "df1=pd.DataFrame(d2)\n",
    "print(df1)"
   ]
  },
  {
   "cell_type": "code",
   "execution_count": 150,
   "id": "974c3981",
   "metadata": {},
   "outputs": [
    {
     "name": "stdout",
     "output_type": "stream",
     "text": [
      "            Nombre Fecha Contrato  Salario  Hojas Restantes \n",
      "0        John Idle       08/15/14  50000.0                10\n",
      "1    Smith Gilliam       04/07/15  65000.0                 6\n",
      "2   Parker Chapman       02/21/14  45000.0                 7\n",
      "3      Jones Palin       10/14/13  70000.0                 3\n",
      "4    Terry Gilliam       07/22/14  48000.0                 9\n",
      "5    Michael Palin       06/28/13  66000.0                 8\n",
      "6        John Idle       08/15/14  50000.0                10\n",
      "7    Smith Gilliam       04/07/15      NaN                 6\n",
      "8   Parker Chapman       02/21/14  45000.0                 7\n",
      "9      Jones Palin       10/14/13      NaN                 3\n",
      "10   Terry Gilliam       07/22/14  48000.0                 9\n",
      "11   Michael Palin       06/28/13  66000.0                 8\n"
     ]
    }
   ],
   "source": [
    "df2=pd.read_csv(r\"C:\\Users\\Nelson\\Desktop\\Archivos paraPandas\\Ar1.csv\")\n",
    "print(df2)"
   ]
  },
  {
   "cell_type": "code",
   "execution_count": 151,
   "id": "bf5b9ea6",
   "metadata": {},
   "outputs": [],
   "source": [
    "df3=pd.read_csv(r\"C:\\Users\\Nelson\\Desktop\\Archivos paraPandas\\data(2).csv\")\n",
    "#print(df3)"
   ]
  },
  {
   "cell_type": "code",
   "execution_count": 152,
   "id": "56a53928",
   "metadata": {},
   "outputs": [],
   "source": [
    "df4=pd.read_excel(r\"C:\\Users\\Nelson\\Desktop\\Tableu SIL\\Data_Files_Updated_June_2021\\Archivo3.xlsx\")\n",
    "#print(df4)"
   ]
  },
  {
   "cell_type": "code",
   "execution_count": 153,
   "id": "e1b06a57",
   "metadata": {},
   "outputs": [],
   "source": [
    "df5=pd.read_json(r\"C:\\Users\\Nelson\\Desktop\\Archivos paraPandas\\q.json\")\n",
    "#print(df5)"
   ]
  },
  {
   "cell_type": "code",
   "execution_count": 154,
   "id": "f310c75d",
   "metadata": {},
   "outputs": [],
   "source": [
    "df6=pd.read_clipboard()\n",
    "#print(df6)"
   ]
  },
  {
   "cell_type": "code",
   "execution_count": 155,
   "id": "d5ef1d5d",
   "metadata": {},
   "outputs": [
    {
     "name": "stdout",
     "output_type": "stream",
     "text": [
      "La tabla articulos ya existe\n"
     ]
    }
   ],
   "source": [
    "import sqlite3\n",
    "conexion=sqlite3.connect(\"bd3.db\")\n",
    "try:\n",
    "    conexion.execute(\"\"\"create table articulos (\n",
    "                              codigo integer primary key autoincrement,\n",
    "                              descripcion text,\n",
    "                              precio real\n",
    "                        )\"\"\")\n",
    "    conexion.execute(\"insert into articulos(descripcion,precio) values (?,?)\", (\"naranjas\", 23.50))\n",
    "    conexion.execute(\"insert into articulos(descripcion,precio) values (?,?)\", (\"peras\", 34))\n",
    "    conexion.execute(\"insert into articulos(descripcion,precio) values (?,?)\", (\"bananas\", 25))\n",
    "    conexion.commit()\n",
    "                           \n",
    "except sqlite3.OperationalError:\n",
    "    print(\"La tabla articulos ya existe\")                    \n",
    "\n",
    "\n",
    "\n",
    "\n",
    "\n",
    "df7= pd.read_sql_query(\"SELECT * FROM articulos\", conexion)\n",
    "#print(df7)\n"
   ]
  },
  {
   "cell_type": "code",
   "execution_count": 156,
   "id": "576f44c6",
   "metadata": {},
   "outputs": [],
   "source": [
    "df8=pd.read_html(\"https://en.wikipedia.org/wiki/Uruguay\")\n",
    "#print(f'Tablas: {len(df8)}')\n",
    "df8=pd.read_html(\"https://en.wikipedia.org/wiki/Uruguay\",match=\"Largest cities or towns in Uruguay\")\n",
    "#print(df8)"
   ]
  },
  {
   "cell_type": "markdown",
   "id": "c58cfc2f",
   "metadata": {},
   "source": [
    "### Inspecting "
   ]
  },
  {
   "cell_type": "code",
   "execution_count": 157,
   "id": "15cfa25d",
   "metadata": {},
   "outputs": [
    {
     "name": "stdout",
     "output_type": "stream",
     "text": [
      "            Nombre Fecha Contrato  Salario  Hojas Restantes \n",
      "0        John Idle       08/15/14  50000.0                10\n",
      "1    Smith Gilliam       04/07/15  65000.0                 6\n",
      "2   Parker Chapman       02/21/14  45000.0                 7\n",
      "3      Jones Palin       10/14/13  70000.0                 3\n",
      "4    Terry Gilliam       07/22/14  48000.0                 9\n",
      "5    Michael Palin       06/28/13  66000.0                 8\n",
      "6        John Idle       08/15/14  50000.0                10\n",
      "7    Smith Gilliam       04/07/15      NaN                 6\n",
      "8   Parker Chapman       02/21/14  45000.0                 7\n",
      "9      Jones Palin       10/14/13      NaN                 3\n",
      "10   Terry Gilliam       07/22/14  48000.0                 9\n",
      "11   Michael Palin       06/28/13  66000.0                 8\n"
     ]
    }
   ],
   "source": [
    "df2=pd.read_csv(r\"C:\\Users\\Nelson\\Desktop\\Archivos paraPandas\\Ar1.csv\")\n",
    "print(df2)"
   ]
  },
  {
   "cell_type": "code",
   "execution_count": 158,
   "id": "868b329b",
   "metadata": {},
   "outputs": [
    {
     "name": "stdout",
     "output_type": "stream",
     "text": [
      "           Nombre Fecha Contrato  Salario  Hojas Restantes \n",
      "0       John Idle       08/15/14  50000.0                10\n",
      "1   Smith Gilliam       04/07/15  65000.0                 6\n",
      "2  Parker Chapman       02/21/14  45000.0                 7\n"
     ]
    }
   ],
   "source": [
    "print(df2.head(3))\n"
   ]
  },
  {
   "cell_type": "code",
   "execution_count": 159,
   "id": "2a2aa5c4",
   "metadata": {},
   "outputs": [
    {
     "name": "stdout",
     "output_type": "stream",
     "text": [
      "           Nombre Fecha Contrato  Salario  Hojas Restantes \n",
      "10  Terry Gilliam       07/22/14  48000.0                 9\n",
      "11  Michael Palin       06/28/13  66000.0                 8\n"
     ]
    }
   ],
   "source": [
    "print(df2.tail(2))"
   ]
  },
  {
   "cell_type": "code",
   "execution_count": 160,
   "id": "06d868de",
   "metadata": {},
   "outputs": [
    {
     "name": "stdout",
     "output_type": "stream",
     "text": [
      "           Nombre Fecha Contrato  Salario  Hojas Restantes \n",
      "9     Jones Palin       10/14/13      NaN                 3\n",
      "1   Smith Gilliam       04/07/15  65000.0                 6\n",
      "10  Terry Gilliam       07/22/14  48000.0                 9\n",
      "0       John Idle       08/15/14  50000.0                10\n"
     ]
    }
   ],
   "source": [
    "print(df2.sample(4))"
   ]
  },
  {
   "cell_type": "code",
   "execution_count": 161,
   "id": "7c3c4280",
   "metadata": {},
   "outputs": [
    {
     "name": "stdout",
     "output_type": "stream",
     "text": [
      "Index(['Nombre', 'Fecha Contrato', 'Salario', 'Hojas Restantes '], dtype='object')\n"
     ]
    }
   ],
   "source": [
    "print(df2.columns)"
   ]
  },
  {
   "cell_type": "code",
   "execution_count": 162,
   "id": "bf954329",
   "metadata": {},
   "outputs": [
    {
     "name": "stdout",
     "output_type": "stream",
     "text": [
      "RangeIndex(start=0, stop=12, step=1)\n"
     ]
    }
   ],
   "source": [
    "print(df2.index)"
   ]
  },
  {
   "cell_type": "code",
   "execution_count": 163,
   "id": "f7e90fd1",
   "metadata": {},
   "outputs": [
    {
     "name": "stdout",
     "output_type": "stream",
     "text": [
      "(12, 4)\n",
      "(12, 4)\n"
     ]
    }
   ],
   "source": [
    "print(df2.shape)\n",
    "print(np.shape(df2))"
   ]
  },
  {
   "cell_type": "code",
   "execution_count": 164,
   "id": "70f505d6",
   "metadata": {},
   "outputs": [
    {
     "name": "stdout",
     "output_type": "stream",
     "text": [
      "0     False\n",
      "1     False\n",
      "2     False\n",
      "3     False\n",
      "4     False\n",
      "5     False\n",
      "6      True\n",
      "7     False\n",
      "8      True\n",
      "9     False\n",
      "10     True\n",
      "11     True\n",
      "dtype: bool\n"
     ]
    }
   ],
   "source": [
    "print(df2.duplicated())"
   ]
  },
  {
   "cell_type": "code",
   "execution_count": 165,
   "id": "9b9372e1",
   "metadata": {},
   "outputs": [
    {
     "name": "stdout",
     "output_type": "stream",
     "text": [
      "Nombre               object\n",
      "Fecha Contrato       object\n",
      "Salario             float64\n",
      "Hojas Restantes       int64\n",
      "dtype: object\n"
     ]
    }
   ],
   "source": [
    "print(df2.dtypes)"
   ]
  },
  {
   "cell_type": "code",
   "execution_count": 166,
   "id": "49a1bc33",
   "metadata": {},
   "outputs": [
    {
     "name": "stdout",
     "output_type": "stream",
     "text": [
      "    Nombre  Fecha Contrato  Salario  Hojas Restantes \n",
      "0    False           False    False             False\n",
      "1    False           False    False             False\n",
      "2    False           False    False             False\n",
      "3    False           False    False             False\n",
      "4    False           False    False             False\n",
      "5    False           False    False             False\n",
      "6    False           False    False             False\n",
      "7    False           False     True             False\n",
      "8    False           False    False             False\n",
      "9    False           False     True             False\n",
      "10   False           False    False             False\n",
      "11   False           False    False             False\n"
     ]
    }
   ],
   "source": [
    "print(df2.isnull())"
   ]
  },
  {
   "cell_type": "code",
   "execution_count": 167,
   "id": "49be2469",
   "metadata": {},
   "outputs": [
    {
     "name": "stdout",
     "output_type": "stream",
     "text": [
      "12\n"
     ]
    }
   ],
   "source": [
    "print(len(df2))"
   ]
  },
  {
   "cell_type": "code",
   "execution_count": 167,
   "id": "103fcbd6",
   "metadata": {},
   "outputs": [
    {
     "ename": "KeyboardInterrupt",
     "evalue": "",
     "output_type": "error",
     "traceback": [
      "\u001b[1;31m---------------------------------------------------------------------------\u001b[0m",
      "\u001b[1;31mKeyboardInterrupt\u001b[0m                         Traceback (most recent call last)",
      "\u001b[1;32m~\\Anaconda3\\lib\\site-packages\\IPython\\core\\async_helpers.py\u001b[0m in \u001b[0;36m_pseudo_sync_runner\u001b[1;34m(coro)\u001b[0m\n\u001b[0;32m     66\u001b[0m     \"\"\"\n\u001b[0;32m     67\u001b[0m     \u001b[1;32mtry\u001b[0m\u001b[1;33m:\u001b[0m\u001b[1;33m\u001b[0m\u001b[1;33m\u001b[0m\u001b[0m\n\u001b[1;32m---> 68\u001b[1;33m         \u001b[0mcoro\u001b[0m\u001b[1;33m.\u001b[0m\u001b[0msend\u001b[0m\u001b[1;33m(\u001b[0m\u001b[1;32mNone\u001b[0m\u001b[1;33m)\u001b[0m\u001b[1;33m\u001b[0m\u001b[1;33m\u001b[0m\u001b[0m\n\u001b[0m\u001b[0;32m     69\u001b[0m     \u001b[1;32mexcept\u001b[0m \u001b[0mStopIteration\u001b[0m \u001b[1;32mas\u001b[0m \u001b[0mexc\u001b[0m\u001b[1;33m:\u001b[0m\u001b[1;33m\u001b[0m\u001b[1;33m\u001b[0m\u001b[0m\n\u001b[0;32m     70\u001b[0m         \u001b[1;32mreturn\u001b[0m \u001b[0mexc\u001b[0m\u001b[1;33m.\u001b[0m\u001b[0mvalue\u001b[0m\u001b[1;33m\u001b[0m\u001b[1;33m\u001b[0m\u001b[0m\n",
      "\u001b[1;32m~\\Anaconda3\\lib\\site-packages\\IPython\\core\\interactiveshell.py\u001b[0m in \u001b[0;36mrun_cell_async\u001b[1;34m(self, raw_cell, store_history, silent, shell_futures, transformed_cell, preprocessing_exc_tuple)\u001b[0m\n\u001b[0;32m   3087\u001b[0m         \u001b[1;32mif\u001b[0m \u001b[0mstore_history\u001b[0m\u001b[1;33m:\u001b[0m\u001b[1;33m\u001b[0m\u001b[1;33m\u001b[0m\u001b[0m\n\u001b[0;32m   3088\u001b[0m             self.history_manager.store_inputs(self.execution_count,\n\u001b[1;32m-> 3089\u001b[1;33m                                               cell, raw_cell)\n\u001b[0m\u001b[0;32m   3090\u001b[0m         \u001b[1;32mif\u001b[0m \u001b[1;32mnot\u001b[0m \u001b[0msilent\u001b[0m\u001b[1;33m:\u001b[0m\u001b[1;33m\u001b[0m\u001b[1;33m\u001b[0m\u001b[0m\n\u001b[0;32m   3091\u001b[0m             \u001b[0mself\u001b[0m\u001b[1;33m.\u001b[0m\u001b[0mlogger\u001b[0m\u001b[1;33m.\u001b[0m\u001b[0mlog\u001b[0m\u001b[1;33m(\u001b[0m\u001b[0mcell\u001b[0m\u001b[1;33m,\u001b[0m \u001b[0mraw_cell\u001b[0m\u001b[1;33m)\u001b[0m\u001b[1;33m\u001b[0m\u001b[1;33m\u001b[0m\u001b[0m\n",
      "\u001b[1;32m~\\Anaconda3\\lib\\site-packages\\IPython\\core\\history.py\u001b[0m in \u001b[0;36mstore_inputs\u001b[1;34m(self, line_num, source, source_raw)\u001b[0m\n\u001b[0;32m    717\u001b[0m         \u001b[0mself\u001b[0m\u001b[1;33m.\u001b[0m\u001b[0minput_hist_raw\u001b[0m\u001b[1;33m.\u001b[0m\u001b[0mappend\u001b[0m\u001b[1;33m(\u001b[0m\u001b[0msource_raw\u001b[0m\u001b[1;33m)\u001b[0m\u001b[1;33m\u001b[0m\u001b[1;33m\u001b[0m\u001b[0m\n\u001b[0;32m    718\u001b[0m \u001b[1;33m\u001b[0m\u001b[0m\n\u001b[1;32m--> 719\u001b[1;33m         \u001b[1;32mwith\u001b[0m \u001b[0mself\u001b[0m\u001b[1;33m.\u001b[0m\u001b[0mdb_input_cache_lock\u001b[0m\u001b[1;33m:\u001b[0m\u001b[1;33m\u001b[0m\u001b[1;33m\u001b[0m\u001b[0m\n\u001b[0m\u001b[0;32m    720\u001b[0m             \u001b[0mself\u001b[0m\u001b[1;33m.\u001b[0m\u001b[0mdb_input_cache\u001b[0m\u001b[1;33m.\u001b[0m\u001b[0mappend\u001b[0m\u001b[1;33m(\u001b[0m\u001b[1;33m(\u001b[0m\u001b[0mline_num\u001b[0m\u001b[1;33m,\u001b[0m \u001b[0msource\u001b[0m\u001b[1;33m,\u001b[0m \u001b[0msource_raw\u001b[0m\u001b[1;33m)\u001b[0m\u001b[1;33m)\u001b[0m\u001b[1;33m\u001b[0m\u001b[1;33m\u001b[0m\u001b[0m\n\u001b[0;32m    721\u001b[0m             \u001b[1;31m# Trigger to flush cache and write to DB.\u001b[0m\u001b[1;33m\u001b[0m\u001b[1;33m\u001b[0m\u001b[1;33m\u001b[0m\u001b[0m\n",
      "\u001b[1;31mKeyboardInterrupt\u001b[0m: "
     ]
    }
   ],
   "source": [
    "print(df2.info())"
   ]
  },
  {
   "cell_type": "code",
   "execution_count": null,
   "id": "4058cec9",
   "metadata": {},
   "outputs": [],
   "source": [
    "print(df2.describe())"
   ]
  },
  {
   "cell_type": "markdown",
   "id": "50e19d5b",
   "metadata": {},
   "source": [
    "### Selecting"
   ]
  },
  {
   "cell_type": "code",
   "execution_count": null,
   "id": "3cd42986",
   "metadata": {},
   "outputs": [],
   "source": [
    "df2=pd.read_csv(r\"C:\\Users\\Nelson\\Desktop\\Archivos paraPandas\\Ar1.csv\")\n",
    "print(df2)"
   ]
  },
  {
   "cell_type": "code",
   "execution_count": null,
   "id": "d9aa3d36",
   "metadata": {},
   "outputs": [],
   "source": [
    "print(df2[\"Salario\"])"
   ]
  },
  {
   "cell_type": "code",
   "execution_count": null,
   "id": "5f1a0cac",
   "metadata": {},
   "outputs": [],
   "source": [
    "print(df2[0:1])"
   ]
  },
  {
   "cell_type": "code",
   "execution_count": null,
   "id": "d99f2d0c",
   "metadata": {},
   "outputs": [],
   "source": [
    "print(df2[[\"Nombre\"]])"
   ]
  },
  {
   "cell_type": "code",
   "execution_count": null,
   "id": "ec94191a",
   "metadata": {},
   "outputs": [],
   "source": [
    "print(df2[\"Nombre\"][3])"
   ]
  },
  {
   "cell_type": "code",
   "execution_count": null,
   "id": "c8536e35",
   "metadata": {},
   "outputs": [],
   "source": []
  },
  {
   "cell_type": "code",
   "execution_count": null,
   "id": "869589a7",
   "metadata": {},
   "outputs": [],
   "source": [
    "print(df2[\"Nombre\"][1:3])"
   ]
  },
  {
   "cell_type": "code",
   "execution_count": null,
   "id": "a01bca45",
   "metadata": {},
   "outputs": [],
   "source": [
    "#print(df2[1::7])"
   ]
  },
  {
   "cell_type": "code",
   "execution_count": null,
   "id": "dee736c4",
   "metadata": {},
   "outputs": [],
   "source": [
    "print(df2[[\"Nombre\",\"Salario\"]])"
   ]
  },
  {
   "cell_type": "code",
   "execution_count": null,
   "id": "21391ee2",
   "metadata": {},
   "outputs": [],
   "source": [
    "print(df2[[\"Nombre\",\"Salario\"]][1:4])"
   ]
  },
  {
   "cell_type": "code",
   "execution_count": null,
   "id": "6eb67cfe",
   "metadata": {},
   "outputs": [],
   "source": [
    "print(df2[(df2[\"Salario\"])>50000])"
   ]
  },
  {
   "cell_type": "code",
   "execution_count": null,
   "id": "3b3f2d91",
   "metadata": {},
   "outputs": [],
   "source": [
    "print(df2[(df2[\"Salario\"]>50000)&(df2[\"Salario\"]<70000)])"
   ]
  },
  {
   "cell_type": "code",
   "execution_count": null,
   "id": "1ec18824",
   "metadata": {},
   "outputs": [],
   "source": [
    "df2=pd.read_csv(r\"C:\\Users\\Nelson\\Desktop\\Archivos paraPandas\\Ar1.csv\")\n",
    "print(df2)"
   ]
  },
  {
   "cell_type": "code",
   "execution_count": null,
   "id": "69538350",
   "metadata": {},
   "outputs": [],
   "source": [
    "print(df2.loc[2])"
   ]
  },
  {
   "cell_type": "code",
   "execution_count": null,
   "id": "433ab51d",
   "metadata": {},
   "outputs": [],
   "source": [
    "print(df2.loc[2,\"Nombre\"])"
   ]
  },
  {
   "cell_type": "code",
   "execution_count": null,
   "id": "aecd5698",
   "metadata": {},
   "outputs": [],
   "source": [
    "#print(df2.loc[[2],[\"Nombre\"]])"
   ]
  },
  {
   "cell_type": "code",
   "execution_count": null,
   "id": "d6e3bcc4",
   "metadata": {},
   "outputs": [],
   "source": [
    "#print(df2.loc[2:6])"
   ]
  },
  {
   "cell_type": "code",
   "execution_count": null,
   "id": "a9964510",
   "metadata": {},
   "outputs": [],
   "source": [
    "#print(df2.iloc[5])"
   ]
  },
  {
   "cell_type": "markdown",
   "id": "1ed6ad96",
   "metadata": {},
   "source": [
    "### Inspecting 2"
   ]
  },
  {
   "cell_type": "code",
   "execution_count": null,
   "id": "460ceb64",
   "metadata": {},
   "outputs": [],
   "source": [
    "df2=pd.read_csv(r\"C:\\Users\\Nelson\\Desktop\\Archivos paraPandas\\Ar1.csv\")\n",
    "print(df2)"
   ]
  },
  {
   "cell_type": "code",
   "execution_count": null,
   "id": "fc95e78d",
   "metadata": {},
   "outputs": [],
   "source": [
    "print(df2['Salario'].unique())\n",
    "#Solo sobre Series"
   ]
  },
  {
   "cell_type": "code",
   "execution_count": null,
   "id": "e30461b7",
   "metadata": {},
   "outputs": [],
   "source": [
    "print(df2['Salario'].value_counts())\n",
    "#Solo sobre Series"
   ]
  },
  {
   "cell_type": "code",
   "execution_count": null,
   "id": "c5e5efd5",
   "metadata": {},
   "outputs": [],
   "source": [
    "print(df2['Salario'].values)"
   ]
  },
  {
   "cell_type": "code",
   "execution_count": null,
   "id": "412aef1a",
   "metadata": {},
   "outputs": [],
   "source": [
    "print(df2['Salario'].idxmax())"
   ]
  },
  {
   "cell_type": "code",
   "execution_count": null,
   "id": "99d5e9d2",
   "metadata": {},
   "outputs": [],
   "source": [
    "print(df2.filter(items=['Salario','Nombre']))"
   ]
  },
  {
   "cell_type": "code",
   "execution_count": null,
   "id": "ab401d16",
   "metadata": {},
   "outputs": [],
   "source": [
    "print(df2.filter(items=[2,6],axis=0))"
   ]
  },
  {
   "cell_type": "code",
   "execution_count": null,
   "id": "1ef18f82",
   "metadata": {},
   "outputs": [],
   "source": [
    "print(df2.filter(regex='Nom',axis=1))"
   ]
  },
  {
   "cell_type": "code",
   "execution_count": null,
   "id": "17b273a6",
   "metadata": {},
   "outputs": [],
   "source": [
    "print(df2.filter(like='Nom',axis=1))"
   ]
  },
  {
   "cell_type": "markdown",
   "id": "2737f753",
   "metadata": {},
   "source": [
    "### Modificar"
   ]
  },
  {
   "cell_type": "code",
   "execution_count": null,
   "id": "05dcdf7f",
   "metadata": {},
   "outputs": [],
   "source": [
    "df2=pd.read_csv(r\"C:\\Users\\Nelson\\Desktop\\Archivos paraPandas\\Ar1.csv\")\n",
    "print(df2)"
   ]
  },
  {
   "cell_type": "code",
   "execution_count": null,
   "id": "03892e62",
   "metadata": {},
   "outputs": [],
   "source": [
    "print(df2.columns)\n",
    "df6=df2.rename({'Hojas Restantes ':\"Restantes\"},axis=1)\n",
    "print(df6)"
   ]
  },
  {
   "cell_type": "code",
   "execution_count": null,
   "id": "d69d54a7",
   "metadata": {},
   "outputs": [],
   "source": [
    "df7 = pd.DataFrame(data={\"Pais\":['Mexico','Argentina','Espana','Colombia'],\n",
    "                        \"Poblacion\":[127212000, 45167000, 47099000, 48922000]})\n",
    "print(df7)"
   ]
  },
  {
   "cell_type": "code",
   "execution_count": null,
   "id": "9a5419b7",
   "metadata": {},
   "outputs": [],
   "source": [
    "df7[\"Superficie\"] = [1964375, 2780400, 505944, 1142748]\n",
    "df7['Deporte']= 'Futbol'\n",
    "print(df7)"
   ]
  },
  {
   "cell_type": "code",
   "execution_count": null,
   "id": "78d2b3ef",
   "metadata": {},
   "outputs": [],
   "source": [
    "print(df7.replace(to_replace='Futbol',value=np.nan))"
   ]
  },
  {
   "cell_type": "code",
   "execution_count": null,
   "id": "751535b9",
   "metadata": {},
   "outputs": [],
   "source": [
    "print(df7.dropna())"
   ]
  },
  {
   "cell_type": "code",
   "execution_count": null,
   "id": "cf07e526",
   "metadata": {},
   "outputs": [],
   "source": [
    "print(df7.replace(to_replace='Futbol',value=np.nan))"
   ]
  },
  {
   "cell_type": "code",
   "execution_count": null,
   "id": "2fd9d82d",
   "metadata": {},
   "outputs": [],
   "source": [
    "print(df7.fillna(value=8))"
   ]
  },
  {
   "cell_type": "code",
   "execution_count": null,
   "id": "10884b4e",
   "metadata": {},
   "outputs": [],
   "source": [
    "print(df7)"
   ]
  },
  {
   "cell_type": "code",
   "execution_count": null,
   "id": "95060076",
   "metadata": {},
   "outputs": [],
   "source": [
    "df7.drop(['Deporte'],axis=1)\n"
   ]
  },
  {
   "cell_type": "code",
   "execution_count": null,
   "id": "1bfa5034",
   "metadata": {},
   "outputs": [],
   "source": [
    "df7.drop([2],axis=0)"
   ]
  },
  {
   "cell_type": "markdown",
   "id": "f177e2cf",
   "metadata": {},
   "source": [
    "### Juntar, Agregar."
   ]
  },
  {
   "cell_type": "code",
   "execution_count": null,
   "id": "d03482aa",
   "metadata": {},
   "outputs": [],
   "source": [
    "df7 = pd.DataFrame(data={\"Pais\":['Mexico','Argentina','Espana','Colombia'],\n",
    "                        \"Poblacion\":[127212000, 45167000, 47099000, 48922000]})\n",
    "df7"
   ]
  },
  {
   "cell_type": "code",
   "execution_count": null,
   "id": "ebf7e1ac",
   "metadata": {},
   "outputs": [],
   "source": [
    "df8=pd.DataFrame(data={\"Pais\":['USA','Chile','Italia','Japon'],\n",
    "                        \"Poblacion\":[300000000, 15000000, 60000000, 150000000],\"Deporte\":[\"Beisbol\",\"Futbol\",\"Futbol\",\"Zumo\"]})\n",
    "df8"
   ]
  },
  {
   "cell_type": "code",
   "execution_count": null,
   "id": "e3986691",
   "metadata": {},
   "outputs": [],
   "source": [
    "df9=df7.append(df8)\n",
    "\n",
    "df9"
   ]
  },
  {
   "cell_type": "code",
   "execution_count": null,
   "id": "2dc2d4e4",
   "metadata": {},
   "outputs": [],
   "source": [
    "df10=pd.concat([df7,df8],axis=0)\n",
    "\n",
    "df10"
   ]
  },
  {
   "cell_type": "code",
   "execution_count": null,
   "id": "c933c6e1",
   "metadata": {},
   "outputs": [],
   "source": [
    "df10=pd.concat([df7,df8],axis=1)\n",
    "df10"
   ]
  },
  {
   "cell_type": "code",
   "execution_count": null,
   "id": "bc87ba01",
   "metadata": {},
   "outputs": [],
   "source": [
    "df11=pd.DataFrame(data={\"Pais\":['USA','Chile','Italia','Japon'],\n",
    "                        \"Poblacion\":[300000000, 15000000, 60000000, 150000000]})\n",
    "df11"
   ]
  },
  {
   "cell_type": "code",
   "execution_count": null,
   "id": "f4f1f216",
   "metadata": {},
   "outputs": [],
   "source": [
    "df12=pd.DataFrame(data={\"Pais\":['USA','Chile','Italia','Japon'],\n",
    "                       \"Deporte\":[\"Beisbol\",\"Futbol\",\"Futbol\",\"Zumo\"]})\n",
    "df12"
   ]
  },
  {
   "cell_type": "code",
   "execution_count": null,
   "id": "91f9a3fe",
   "metadata": {},
   "outputs": [],
   "source": [
    "df14=df11.join(df12,lsuffix=' a',rsuffix=' b')\n",
    "df14"
   ]
  },
  {
   "cell_type": "code",
   "execution_count": null,
   "id": "cdfeff3c",
   "metadata": {},
   "outputs": [],
   "source": [
    "df13=df11.join(df12.set_index(\"Pais\"),on=\"Pais\")\n",
    "df13"
   ]
  },
  {
   "cell_type": "code",
   "execution_count": null,
   "id": "729bfd38",
   "metadata": {},
   "outputs": [],
   "source": [
    "df11=pd.DataFrame(data={\"Pais\":['USA','Chile','Italia','Japon'],\n",
    "                        \"Poblacion\":[300000000, 15000000, 60000000, 150000000]})\n",
    "df11"
   ]
  },
  {
   "cell_type": "code",
   "execution_count": null,
   "id": "64744be3",
   "metadata": {},
   "outputs": [],
   "source": [
    "df15=pd.DataFrame(data={\"Pais\":['USA','Chile','China'],\n",
    "                       \"Deporte\":[\"Beisbol\",\"Futbol\",\"PingPong\"]})\n",
    "df15"
   ]
  },
  {
   "cell_type": "code",
   "execution_count": null,
   "id": "3115abca",
   "metadata": {},
   "outputs": [],
   "source": [
    "df16=df11.merge(df15,how='inner',on='Pais')\n",
    "df16"
   ]
  },
  {
   "cell_type": "code",
   "execution_count": null,
   "id": "d72e0583",
   "metadata": {},
   "outputs": [],
   "source": [
    "df17=df11.merge(df15,how='outer',on='Pais')\n",
    "df17"
   ]
  },
  {
   "cell_type": "code",
   "execution_count": null,
   "id": "d2449b96",
   "metadata": {},
   "outputs": [],
   "source": [
    "df18=df11.merge(df15,how='left',on='Pais')\n",
    "df18"
   ]
  },
  {
   "cell_type": "code",
   "execution_count": null,
   "id": "8dcb673e",
   "metadata": {},
   "outputs": [],
   "source": [
    "df19=df11.merge(df15,how='right',on='Pais')\n",
    "df19"
   ]
  },
  {
   "cell_type": "code",
   "execution_count": null,
   "id": "7d9fc315",
   "metadata": {},
   "outputs": [],
   "source": [
    "df22=df11.assign(Poblacion2=df11['Poblacion']/1000000 )\n",
    "df22"
   ]
  },
  {
   "cell_type": "code",
   "execution_count": null,
   "id": "b9168ff8",
   "metadata": {},
   "outputs": [],
   "source": [
    "data = {'Nombre': ['Parker', 'Smith', 'John', 'William'],  \n",
    "   'Porcentaje': [82, 98, 91, 87],  \n",
    "   'Curso': ['B.Sc','B.Ed','M.Phill','BA']}  \n",
    "df23 = pd.DataFrame(data)  \n",
    "df23"
   ]
  },
  {
   "cell_type": "code",
   "execution_count": null,
   "id": "d9724001",
   "metadata": {},
   "outputs": [],
   "source": [
    "data3 = {'Team': ['Riders', 'Riders', 'Devils', 'Devils', 'Kings',\n",
    "   'kings', 'Kings', 'Kings', 'Riders', 'Royals', 'Royals', 'Riders'],\n",
    "   'Rank': [1, 2, 2, 3, 3,4 ,1 ,1,2 , 4,1,2],\n",
    "   'Año': [2014,2015,2014,2015,2014,2015,2016,2017,2016,2014,2015,2017],\n",
    "   'Puntos':[876,789,863,673,741,812,756,788,694,701,804,690]}\n",
    "df26 = pd.DataFrame(data3)\n",
    "df26"
   ]
  },
  {
   "cell_type": "code",
   "execution_count": null,
   "id": "fee13df3",
   "metadata": {},
   "outputs": [],
   "source": [
    "print(df26.groupby('Team').groups)"
   ]
  },
  {
   "cell_type": "code",
   "execution_count": null,
   "id": "2806a051",
   "metadata": {},
   "outputs": [],
   "source": [
    "print(df26.groupby('Team').get_group('Kings'))"
   ]
  },
  {
   "cell_type": "code",
   "execution_count": null,
   "id": "f5dc7192",
   "metadata": {},
   "outputs": [],
   "source": [
    "print(df26.groupby(['Team','Año']).groups)"
   ]
  },
  {
   "cell_type": "code",
   "execution_count": null,
   "id": "37cadde0",
   "metadata": {},
   "outputs": [],
   "source": [
    "for nombre,grupo in (df26.groupby(['Team','Año'])):\n",
    "   print (nombre)\n",
    "   print (grupo)"
   ]
  },
  {
   "cell_type": "code",
   "execution_count": null,
   "id": "2e6fbaef",
   "metadata": {},
   "outputs": [],
   "source": [
    "gr1=df26.groupby('Año')\n",
    "print(gr1.groups)"
   ]
  },
  {
   "cell_type": "code",
   "execution_count": null,
   "id": "102e5cd5",
   "metadata": {},
   "outputs": [],
   "source": [
    "print(gr1['Puntos'].agg(np.mean))"
   ]
  },
  {
   "cell_type": "code",
   "execution_count": null,
   "id": "e0d16f5d",
   "metadata": {},
   "outputs": [],
   "source": [
    "print(gr1.agg(np.size))"
   ]
  },
  {
   "cell_type": "code",
   "execution_count": null,
   "id": "4097f1e8",
   "metadata": {},
   "outputs": [],
   "source": [
    "print (gr1['Puntos'].agg([np.sum, np.mean, np.std]))"
   ]
  },
  {
   "cell_type": "code",
   "execution_count": null,
   "id": "a79255a3",
   "metadata": {},
   "outputs": [],
   "source": []
  },
  {
   "cell_type": "code",
   "execution_count": null,
   "id": "5402ab62",
   "metadata": {},
   "outputs": [],
   "source": []
  },
  {
   "cell_type": "code",
   "execution_count": null,
   "id": "f3278a83",
   "metadata": {},
   "outputs": [],
   "source": []
  }
 ],
 "metadata": {
  "kernelspec": {
   "display_name": "Python 3",
   "language": "python",
   "name": "python3"
  },
  "language_info": {
   "codemirror_mode": {
    "name": "ipython",
    "version": 3
   },
   "file_extension": ".py",
   "mimetype": "text/x-python",
   "name": "python",
   "nbconvert_exporter": "python",
   "pygments_lexer": "ipython3",
   "version": "3.7.10"
  }
 },
 "nbformat": 4,
 "nbformat_minor": 5
}
